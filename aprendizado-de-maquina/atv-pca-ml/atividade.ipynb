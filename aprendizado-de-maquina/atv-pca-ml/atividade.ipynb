{
 "cells": [
  {
   "cell_type": "code",
   "execution_count": 1,
   "id": "d6087a08",
   "metadata": {},
   "outputs": [],
   "source": [
    "from sklearn.datasets import load_iris, fetch_openml\n",
    "from sklearn.model_selection import train_test_split\n",
    "from sklearn.decomposition import PCA\n",
    "from sklearn.ensemble import RandomForestClassifier\n",
    "from sklearn.svm import SVC\n",
    "from sklearn.metrics import accuracy_score\n",
    "from sklearn.preprocessing import StandardScaler\n",
    "import numpy as np\n",
    "\n",
    "\n"
   ]
  },
  {
   "cell_type": "code",
   "execution_count": 10,
   "id": "72d8dec7",
   "metadata": {},
   "outputs": [],
   "source": [
    "def run_pipeline(X, y, dataset_name):\n",
    "    print(f\"\\n### {dataset_name} ###\")\n",
    "\n",
    "    # Normaliza os dados\n",
    "    X = StandardScaler().fit_transform(X)\n",
    "\n",
    "    # Divide em treino e teste\n",
    "    X_train, X_test, y_train, y_test = train_test_split(X, y, test_size=0.3, random_state=42)\n",
    "\n",
    "    # PCA com 5 componentes\n",
    "    pca = PCA(n_components=3)\n",
    "    X_train_pca = pca.fit_transform(X_train)\n",
    "    X_test_pca = pca.transform(X_test)\n",
    "\n",
    "    for clf in [RandomForestClassifier(), SVC()]:\n",
    "        # Sem PCA\n",
    "        clf.fit(X_train, y_train)\n",
    "        acc_original = accuracy_score(y_test, clf.predict(X_test))\n",
    "\n",
    "        # Com PCA\n",
    "        clf.fit(X_train_pca, y_train)\n",
    "        acc_pca = accuracy_score(y_test, clf.predict(X_test_pca))\n",
    "\n",
    "        print(f\"{clf.__class__.__name__} - Sem PCA: {acc_original:.4f} | Com PCA (2 comp.): {acc_pca:.4f}\")\n",
    "\n"
   ]
  },
  {
   "cell_type": "code",
   "execution_count": 11,
   "id": "d241449c",
   "metadata": {},
   "outputs": [
    {
     "name": "stdout",
     "output_type": "stream",
     "text": [
      "\n",
      "### Iris ###\n",
      "RandomForestClassifier - Sem PCA: 1.0000 | Com PCA (2 comp.): 0.9778\n",
      "SVC - Sem PCA: 1.0000 | Com PCA (2 comp.): 1.0000\n",
      "\n",
      "Carregando MNIST...\n",
      "\n",
      "### MNIST (10k amostras) ###\n",
      "RandomForestClassifier - Sem PCA: 0.9433 | Com PCA (2 comp.): 0.5270\n",
      "SVC - Sem PCA: 0.9307 | Com PCA (2 comp.): 0.5570\n"
     ]
    }
   ],
   "source": [
    "# IRIS\n",
    "iris = load_iris()\n",
    "run_pipeline(iris.data, iris.target, \"Iris\")\n",
    "\n",
    "# MNIST (reduzido para 10.000 amostras para desempenho)\n",
    "print(\"\\nCarregando MNIST...\")\n",
    "mnist = fetch_openml('mnist_784', version=1, as_frame=False)\n",
    "X_mnist, y_mnist = mnist.data, mnist.target.astype(int)\n",
    "X_sample, _, y_sample, _ = train_test_split(X_mnist, y_mnist, train_size=10000, stratify=y_mnist, random_state=42)\n",
    "\n",
    "run_pipeline(X_sample, y_sample, \"MNIST (10k amostras)\")"
   ]
  },
  {
   "cell_type": "markdown",
   "id": "89051656",
   "metadata": {},
   "source": [
    "É notável que o dataset mnist não reage bem ao pca, fazendo a acurácia cair cerca de 30%\n"
   ]
  }
 ],
 "metadata": {
  "kernelspec": {
   "display_name": "venv",
   "language": "python",
   "name": "python3"
  },
  "language_info": {
   "codemirror_mode": {
    "name": "ipython",
    "version": 3
   },
   "file_extension": ".py",
   "mimetype": "text/x-python",
   "name": "python",
   "nbconvert_exporter": "python",
   "pygments_lexer": "ipython3",
   "version": "3.12.5"
  }
 },
 "nbformat": 4,
 "nbformat_minor": 5
}
